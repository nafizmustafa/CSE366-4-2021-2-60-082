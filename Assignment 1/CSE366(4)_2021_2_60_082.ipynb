{
  "nbformat": 4,
  "nbformat_minor": 0,
  "metadata": {
    "colab": {
      "provenance": []
    },
    "kernelspec": {
      "name": "python3",
      "display_name": "Python 3"
    },
    "language_info": {
      "name": "python"
    }
  },
  "cells": [
    {
      "cell_type": "markdown",
      "source": [
        "# Assignment 1  CSE366(4)"
      ],
      "metadata": {
        "id": "XvIq9i9EmdKv"
      }
    },
    {
      "cell_type": "code",
      "execution_count": 1,
      "metadata": {
        "id": "O2uil-Prld8V"
      },
      "outputs": [],
      "source": [
        "import random\n"
      ]
    },
    {
      "cell_type": "markdown",
      "source": [
        "### Environment"
      ],
      "metadata": {
        "id": "WeC0cLxPnLdd"
      }
    },
    {
      "cell_type": "code",
      "source": [
        "class Environment:\n",
        "    def __init__(self):\n",
        "        self.grid_size = 10\n",
        "        self.grid = [[0] * self.grid_size for _ in range(self.grid_size)]\n",
        "        self.obstacle_density = 0.2\n",
        "        self.start_position = None\n",
        "        self.end_position = None\n",
        "        self.generate_environment()\n",
        "\n",
        "    def generate_environment(self):\n",
        "\n",
        "        for i in range(self.grid_size):\n",
        "            for j in range(self.grid_size):\n",
        "                if random.random() < self.obstacle_density:\n",
        "                    self.grid[i][j] = 1\n",
        "\n",
        "\n",
        "        self.start_position = self.get_random_empty_position()\n",
        "        self.grid[self.start_position[0]][self.start_position[1]] = 'S'\n",
        "\n",
        "\n",
        "        self.end_position = self.get_random_empty_position()\n",
        "        self.grid[self.end_position[0]][self.end_position[1]] = 'E'\n",
        "\n",
        "    def get_random_empty_position(self):\n",
        "        while True:\n",
        "            i, j = random.randint(0, self.grid_size - 1), random.randint(0, self.grid_size - 1)\n",
        "            if self.grid[i][j] == 0:\n",
        "                return i, j\n",
        "\n",
        "    def print_environment(self):\n",
        "        for row in self.grid:\n",
        "            print(' '.join(map(str, row)))"
      ],
      "metadata": {
        "id": "mH-cyGyrlt_f"
      },
      "execution_count": 2,
      "outputs": []
    },
    {
      "cell_type": "markdown",
      "source": [
        "### Agent"
      ],
      "metadata": {
        "id": "5mMfU6I7nRL9"
      }
    },
    {
      "cell_type": "code",
      "source": [
        "class Agent:\n",
        "    def __init__(self, environment):\n",
        "        self.environment = environment\n",
        "        self.position = environment.start_position\n",
        "        self.energy = 100\n",
        "        self.battery_status = 'Full'\n",
        "\n",
        "    def move(self, direction):\n",
        "        i, j = self.position\n",
        "\n",
        "\n",
        "        if direction == 'up' and i > 0:\n",
        "            i -= 1\n",
        "        elif direction == 'down' and i < self.environment.grid_size - 1:\n",
        "            i += 1\n",
        "        elif direction == 'left' and j > 0:\n",
        "            j -= 1\n",
        "        elif direction == 'right' and j < self.environment.grid_size - 1:\n",
        "            j += 1\n",
        "\n",
        "\n",
        "        if self.environment.grid[i][j] == 1:\n",
        "            print(\"Cannot move.\")\n",
        "        else:\n",
        "            self.position = (i, j)\n",
        "            self.energy -= 10\n",
        "            if self.energy <= 0:\n",
        "                self.recharge()\n",
        "\n",
        "\n",
        "        self.update_battery_status()\n",
        "\n",
        "    def recharge(self):\n",
        "        print(\"Battery level is 0%. Recharging...\")\n",
        "        self.energy = 100\n",
        "        self.battery_status = 'Full'\n",
        "\n",
        "    def update_battery_status(self):\n",
        "        if self.energy == 0:\n",
        "            self.battery_status = 'Empty'\n",
        "        elif self.energy <= 30:\n",
        "            self.battery_status = 'Low'\n",
        "        elif self.energy <= 70:\n",
        "            self.battery_status = 'Medium'\n",
        "        else:\n",
        "            self.battery_status = 'Full'\n",
        "\n",
        "    def print_status(self):\n",
        "        print(f\"Current Position: {self.position}\")\n",
        "        print(f\"Energy Level: {self.energy}\")\n",
        "        print(f\"Battery Status: {self.battery_status}\")\n"
      ],
      "metadata": {
        "id": "oR_-fdlul6pd"
      },
      "execution_count": 3,
      "outputs": []
    },
    {
      "cell_type": "code",
      "source": [
        "env = Environment()\n",
        "env.print_environment()\n",
        "\n",
        "robot = Agent(env)\n",
        "\n",
        "robot.move('right')\n",
        "robot.move('down')\n",
        "robot.move('left')\n",
        "robot.move('up')\n",
        "\n",
        "robot.print_status()"
      ],
      "metadata": {
        "colab": {
          "base_uri": "https://localhost:8080/"
        },
        "id": "PvGqmTq3mCxn",
        "outputId": "8e8870c0-75f5-499e-8e07-31e7ad10415b"
      },
      "execution_count": 6,
      "outputs": [
        {
          "output_type": "stream",
          "name": "stdout",
          "text": [
            "0 0 0 0 1 1 0 0 0 1\n",
            "0 0 0 0 0 0 0 0 0 0\n",
            "1 0 0 0 0 0 0 S 0 0\n",
            "0 1 0 0 1 0 0 0 0 0\n",
            "0 0 1 0 1 0 1 0 0 0\n",
            "0 0 0 0 1 0 0 0 0 1\n",
            "0 0 0 0 0 1 0 0 1 0\n",
            "1 0 0 0 0 0 0 1 0 0\n",
            "0 0 0 0 0 0 0 1 1 1\n",
            "0 0 E 0 0 1 1 0 0 0\n",
            "Current Position: (2, 7)\n",
            "Energy Level: 60\n",
            "Battery Status: Medium\n"
          ]
        }
      ]
    },
    {
      "cell_type": "code",
      "source": [],
      "metadata": {
        "id": "JKmV1njQmIbR"
      },
      "execution_count": null,
      "outputs": []
    }
  ]
}